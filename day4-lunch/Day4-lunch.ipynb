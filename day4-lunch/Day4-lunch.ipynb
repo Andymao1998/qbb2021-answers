{
 "cells": [
  {
   "cell_type": "markdown",
   "metadata": {},
   "source": [
    "# Import software library"
   ]
  },
  {
   "cell_type": "code",
   "execution_count": 2,
   "metadata": {},
   "outputs": [],
   "source": [
    "import pandas as pd\n",
    "import numpy as np\n",
    "import matplotlib.pyplot as plt"
   ]
  },
  {
   "cell_type": "code",
   "execution_count": 3,
   "metadata": {},
   "outputs": [
    {
     "data": {
      "text/html": [
       "<div>\n",
       "<style scoped>\n",
       "    .dataframe tbody tr th:only-of-type {\n",
       "        vertical-align: middle;\n",
       "    }\n",
       "\n",
       "    .dataframe tbody tr th {\n",
       "        vertical-align: top;\n",
       "    }\n",
       "\n",
       "    .dataframe thead th {\n",
       "        text-align: right;\n",
       "    }\n",
       "</style>\n",
       "<table border=\"1\" class=\"dataframe\">\n",
       "  <thead>\n",
       "    <tr style=\"text-align: right;\">\n",
       "      <th></th>\n",
       "      <th>t_name</th>\n",
       "      <th>male_10</th>\n",
       "      <th>male_11</th>\n",
       "      <th>male_12</th>\n",
       "      <th>male_13</th>\n",
       "      <th>male_14A</th>\n",
       "      <th>male_14B</th>\n",
       "      <th>male_14C</th>\n",
       "      <th>male_14D</th>\n",
       "      <th>female_10</th>\n",
       "      <th>female_11</th>\n",
       "      <th>female_12</th>\n",
       "      <th>female_13</th>\n",
       "      <th>female_14A</th>\n",
       "      <th>female_14B</th>\n",
       "      <th>female_14C</th>\n",
       "      <th>female_14D</th>\n",
       "    </tr>\n",
       "    <tr>\n",
       "      <th>gene_name</th>\n",
       "      <th></th>\n",
       "      <th></th>\n",
       "      <th></th>\n",
       "      <th></th>\n",
       "      <th></th>\n",
       "      <th></th>\n",
       "      <th></th>\n",
       "      <th></th>\n",
       "      <th></th>\n",
       "      <th></th>\n",
       "      <th></th>\n",
       "      <th></th>\n",
       "      <th></th>\n",
       "      <th></th>\n",
       "      <th></th>\n",
       "      <th></th>\n",
       "      <th></th>\n",
       "    </tr>\n",
       "  </thead>\n",
       "  <tbody>\n",
       "    <tr>\n",
       "      <th>CR41571</th>\n",
       "      <td>FBtr0114258</td>\n",
       "      <td>0.000000</td>\n",
       "      <td>0.000000</td>\n",
       "      <td>0.000000</td>\n",
       "      <td>0.000000</td>\n",
       "      <td>0.000000</td>\n",
       "      <td>0.000000</td>\n",
       "      <td>0.000000</td>\n",
       "      <td>0.000000</td>\n",
       "      <td>0.000000</td>\n",
       "      <td>0.000000</td>\n",
       "      <td>0.000000</td>\n",
       "      <td>0.000000</td>\n",
       "      <td>0.000000</td>\n",
       "      <td>0.000000</td>\n",
       "      <td>0.000000</td>\n",
       "      <td>0.000000</td>\n",
       "    </tr>\n",
       "    <tr>\n",
       "      <th>CG45784</th>\n",
       "      <td>FBtr0346770</td>\n",
       "      <td>0.000000</td>\n",
       "      <td>0.000000</td>\n",
       "      <td>0.000000</td>\n",
       "      <td>0.000000</td>\n",
       "      <td>0.000000</td>\n",
       "      <td>0.000000</td>\n",
       "      <td>0.000000</td>\n",
       "      <td>0.000000</td>\n",
       "      <td>0.000000</td>\n",
       "      <td>0.000000</td>\n",
       "      <td>0.000000</td>\n",
       "      <td>0.000000</td>\n",
       "      <td>0.000000</td>\n",
       "      <td>0.000000</td>\n",
       "      <td>0.000000</td>\n",
       "      <td>0.000000</td>\n",
       "    </tr>\n",
       "    <tr>\n",
       "      <th>CR12798</th>\n",
       "      <td>FBtr0302440</td>\n",
       "      <td>0.000000</td>\n",
       "      <td>0.000000</td>\n",
       "      <td>0.000000</td>\n",
       "      <td>0.000000</td>\n",
       "      <td>0.000000</td>\n",
       "      <td>0.000000</td>\n",
       "      <td>0.000000</td>\n",
       "      <td>0.000000</td>\n",
       "      <td>0.000000</td>\n",
       "      <td>0.000000</td>\n",
       "      <td>0.000000</td>\n",
       "      <td>0.000000</td>\n",
       "      <td>0.000000</td>\n",
       "      <td>0.000000</td>\n",
       "      <td>0.000000</td>\n",
       "      <td>0.000000</td>\n",
       "    </tr>\n",
       "    <tr>\n",
       "      <th>CR40182</th>\n",
       "      <td>FBtr0302347</td>\n",
       "      <td>23.712564</td>\n",
       "      <td>11.967821</td>\n",
       "      <td>20.767498</td>\n",
       "      <td>13.566818</td>\n",
       "      <td>18.802116</td>\n",
       "      <td>26.802691</td>\n",
       "      <td>22.819895</td>\n",
       "      <td>11.682728</td>\n",
       "      <td>21.894249</td>\n",
       "      <td>13.922059</td>\n",
       "      <td>16.482141</td>\n",
       "      <td>12.622680</td>\n",
       "      <td>31.800016</td>\n",
       "      <td>22.883186</td>\n",
       "      <td>14.330216</td>\n",
       "      <td>17.202570</td>\n",
       "    </tr>\n",
       "    <tr>\n",
       "      <th>CG45783</th>\n",
       "      <td>FBtr0346769</td>\n",
       "      <td>0.000000</td>\n",
       "      <td>0.000000</td>\n",
       "      <td>0.000000</td>\n",
       "      <td>0.000000</td>\n",
       "      <td>0.000000</td>\n",
       "      <td>0.000000</td>\n",
       "      <td>0.000000</td>\n",
       "      <td>0.000000</td>\n",
       "      <td>0.000000</td>\n",
       "      <td>0.000000</td>\n",
       "      <td>0.000000</td>\n",
       "      <td>0.000000</td>\n",
       "      <td>0.000000</td>\n",
       "      <td>0.000000</td>\n",
       "      <td>0.000000</td>\n",
       "      <td>0.000000</td>\n",
       "    </tr>\n",
       "    <tr>\n",
       "      <th>CR45220</th>\n",
       "      <td>FBtr0345282</td>\n",
       "      <td>0.000000</td>\n",
       "      <td>0.000000</td>\n",
       "      <td>0.000000</td>\n",
       "      <td>0.000000</td>\n",
       "      <td>0.000000</td>\n",
       "      <td>0.000000</td>\n",
       "      <td>0.000000</td>\n",
       "      <td>0.000000</td>\n",
       "      <td>0.000000</td>\n",
       "      <td>0.000000</td>\n",
       "      <td>0.000000</td>\n",
       "      <td>0.000000</td>\n",
       "      <td>0.000000</td>\n",
       "      <td>0.000000</td>\n",
       "      <td>0.000000</td>\n",
       "      <td>0.000000</td>\n",
       "    </tr>\n",
       "    <tr>\n",
       "      <th>CR45220</th>\n",
       "      <td>FBtr0345281</td>\n",
       "      <td>0.000000</td>\n",
       "      <td>0.000000</td>\n",
       "      <td>0.000000</td>\n",
       "      <td>0.000000</td>\n",
       "      <td>0.000000</td>\n",
       "      <td>0.000000</td>\n",
       "      <td>0.000000</td>\n",
       "      <td>0.000000</td>\n",
       "      <td>0.000000</td>\n",
       "      <td>0.000000</td>\n",
       "      <td>0.000000</td>\n",
       "      <td>0.000000</td>\n",
       "      <td>0.000000</td>\n",
       "      <td>0.000000</td>\n",
       "      <td>0.000000</td>\n",
       "      <td>0.284474</td>\n",
       "    </tr>\n",
       "    <tr>\n",
       "      <th>spok</th>\n",
       "      <td>FBtr0300207</td>\n",
       "      <td>0.000000</td>\n",
       "      <td>0.000000</td>\n",
       "      <td>0.000000</td>\n",
       "      <td>0.000000</td>\n",
       "      <td>0.000000</td>\n",
       "      <td>0.000000</td>\n",
       "      <td>0.000000</td>\n",
       "      <td>0.000000</td>\n",
       "      <td>0.000000</td>\n",
       "      <td>0.000000</td>\n",
       "      <td>0.000000</td>\n",
       "      <td>0.000000</td>\n",
       "      <td>0.000000</td>\n",
       "      <td>0.000000</td>\n",
       "      <td>0.000000</td>\n",
       "      <td>0.000000</td>\n",
       "    </tr>\n",
       "    <tr>\n",
       "      <th>Parp</th>\n",
       "      <td>FBtr0113885</td>\n",
       "      <td>10.997173</td>\n",
       "      <td>0.000000</td>\n",
       "      <td>0.000000</td>\n",
       "      <td>0.000000</td>\n",
       "      <td>14.805335</td>\n",
       "      <td>0.000000</td>\n",
       "      <td>17.601667</td>\n",
       "      <td>10.729349</td>\n",
       "      <td>0.000000</td>\n",
       "      <td>0.000000</td>\n",
       "      <td>14.888651</td>\n",
       "      <td>14.518989</td>\n",
       "      <td>20.343670</td>\n",
       "      <td>4.087385</td>\n",
       "      <td>0.000000</td>\n",
       "      <td>25.284622</td>\n",
       "    </tr>\n",
       "    <tr>\n",
       "      <th>Alg-2</th>\n",
       "      <td>FBtr0301810</td>\n",
       "      <td>19.067924</td>\n",
       "      <td>0.000000</td>\n",
       "      <td>14.832370</td>\n",
       "      <td>27.793905</td>\n",
       "      <td>22.290230</td>\n",
       "      <td>7.846396</td>\n",
       "      <td>13.839143</td>\n",
       "      <td>12.905621</td>\n",
       "      <td>18.570707</td>\n",
       "      <td>2.919183</td>\n",
       "      <td>18.402807</td>\n",
       "      <td>26.431841</td>\n",
       "      <td>27.464781</td>\n",
       "      <td>7.432775</td>\n",
       "      <td>7.349162</td>\n",
       "      <td>22.792486</td>\n",
       "    </tr>\n",
       "    <tr>\n",
       "      <th>Tim17b</th>\n",
       "      <td>FBtr0113895</td>\n",
       "      <td>6.315716</td>\n",
       "      <td>3.935390</td>\n",
       "      <td>6.244336</td>\n",
       "      <td>69.942917</td>\n",
       "      <td>67.208557</td>\n",
       "      <td>7.605970</td>\n",
       "      <td>74.979057</td>\n",
       "      <td>53.740307</td>\n",
       "      <td>44.747662</td>\n",
       "      <td>16.834093</td>\n",
       "      <td>52.928318</td>\n",
       "      <td>77.950165</td>\n",
       "      <td>80.805580</td>\n",
       "      <td>31.863932</td>\n",
       "      <td>49.121342</td>\n",
       "      <td>77.608521</td>\n",
       "    </tr>\n",
       "    <tr>\n",
       "      <th>Tim17b</th>\n",
       "      <td>FBtr0345179</td>\n",
       "      <td>119.325905</td>\n",
       "      <td>11.631035</td>\n",
       "      <td>120.137291</td>\n",
       "      <td>75.778061</td>\n",
       "      <td>72.815582</td>\n",
       "      <td>123.849213</td>\n",
       "      <td>81.234352</td>\n",
       "      <td>59.657963</td>\n",
       "      <td>48.480839</td>\n",
       "      <td>18.238514</td>\n",
       "      <td>57.343983</td>\n",
       "      <td>86.686310</td>\n",
       "      <td>87.546967</td>\n",
       "      <td>34.522255</td>\n",
       "      <td>53.219402</td>\n",
       "      <td>84.936600</td>\n",
       "    </tr>\n",
       "    <tr>\n",
       "      <th>CG41128</th>\n",
       "      <td>FBtr0301812</td>\n",
       "      <td>6.421000</td>\n",
       "      <td>0.000000</td>\n",
       "      <td>10.366037</td>\n",
       "      <td>22.998930</td>\n",
       "      <td>25.152847</td>\n",
       "      <td>21.537817</td>\n",
       "      <td>34.438099</td>\n",
       "      <td>17.577929</td>\n",
       "      <td>14.679211</td>\n",
       "      <td>4.000917</td>\n",
       "      <td>18.030527</td>\n",
       "      <td>29.636564</td>\n",
       "      <td>33.500099</td>\n",
       "      <td>10.934458</td>\n",
       "      <td>16.522137</td>\n",
       "      <td>36.918327</td>\n",
       "    </tr>\n",
       "    <tr>\n",
       "      <th>CG41099</th>\n",
       "      <td>FBtr0113990</td>\n",
       "      <td>26.929455</td>\n",
       "      <td>0.000000</td>\n",
       "      <td>0.000000</td>\n",
       "      <td>28.792620</td>\n",
       "      <td>29.601717</td>\n",
       "      <td>0.000000</td>\n",
       "      <td>21.333294</td>\n",
       "      <td>5.264250</td>\n",
       "      <td>17.742254</td>\n",
       "      <td>0.000000</td>\n",
       "      <td>38.972218</td>\n",
       "      <td>25.751348</td>\n",
       "      <td>55.026825</td>\n",
       "      <td>0.000000</td>\n",
       "      <td>0.000000</td>\n",
       "      <td>0.000000</td>\n",
       "    </tr>\n",
       "    <tr>\n",
       "      <th>CG41099</th>\n",
       "      <td>FBtr0113991</td>\n",
       "      <td>0.000000</td>\n",
       "      <td>0.000000</td>\n",
       "      <td>0.000000</td>\n",
       "      <td>0.000000</td>\n",
       "      <td>0.000000</td>\n",
       "      <td>0.000000</td>\n",
       "      <td>0.000000</td>\n",
       "      <td>0.000000</td>\n",
       "      <td>0.000000</td>\n",
       "      <td>0.000000</td>\n",
       "      <td>0.000000</td>\n",
       "      <td>0.000000</td>\n",
       "      <td>0.000000</td>\n",
       "      <td>0.000000</td>\n",
       "      <td>0.000000</td>\n",
       "      <td>0.000000</td>\n",
       "    </tr>\n",
       "    <tr>\n",
       "      <th>CG41099</th>\n",
       "      <td>FBtr0344573</td>\n",
       "      <td>0.000000</td>\n",
       "      <td>0.000000</td>\n",
       "      <td>0.000000</td>\n",
       "      <td>6.290786</td>\n",
       "      <td>0.000000</td>\n",
       "      <td>0.000000</td>\n",
       "      <td>0.000000</td>\n",
       "      <td>0.000000</td>\n",
       "      <td>0.000000</td>\n",
       "      <td>0.000000</td>\n",
       "      <td>0.000000</td>\n",
       "      <td>0.000000</td>\n",
       "      <td>0.000000</td>\n",
       "      <td>0.000000</td>\n",
       "      <td>0.000000</td>\n",
       "      <td>0.000000</td>\n",
       "    </tr>\n",
       "    <tr>\n",
       "      <th>CG41099</th>\n",
       "      <td>FBtr0113989</td>\n",
       "      <td>8.754889</td>\n",
       "      <td>0.000000</td>\n",
       "      <td>25.072079</td>\n",
       "      <td>16.968779</td>\n",
       "      <td>5.586432</td>\n",
       "      <td>0.000000</td>\n",
       "      <td>0.000000</td>\n",
       "      <td>13.205288</td>\n",
       "      <td>12.339256</td>\n",
       "      <td>0.000000</td>\n",
       "      <td>0.000000</td>\n",
       "      <td>0.000000</td>\n",
       "      <td>4.907310</td>\n",
       "      <td>0.000000</td>\n",
       "      <td>14.397744</td>\n",
       "      <td>33.321011</td>\n",
       "    </tr>\n",
       "    <tr>\n",
       "      <th>CG42402</th>\n",
       "      <td>FBtr0336454</td>\n",
       "      <td>0.000000</td>\n",
       "      <td>0.000000</td>\n",
       "      <td>0.000000</td>\n",
       "      <td>0.000000</td>\n",
       "      <td>0.000000</td>\n",
       "      <td>0.000000</td>\n",
       "      <td>0.000000</td>\n",
       "      <td>0.000000</td>\n",
       "      <td>0.000000</td>\n",
       "      <td>0.000000</td>\n",
       "      <td>0.000000</td>\n",
       "      <td>0.000000</td>\n",
       "      <td>0.000000</td>\n",
       "      <td>0.000000</td>\n",
       "      <td>0.000000</td>\n",
       "      <td>0.000000</td>\n",
       "    </tr>\n",
       "    <tr>\n",
       "      <th>CG42402</th>\n",
       "      <td>FBtr0339974</td>\n",
       "      <td>0.000000</td>\n",
       "      <td>0.000000</td>\n",
       "      <td>0.000000</td>\n",
       "      <td>0.000000</td>\n",
       "      <td>0.000000</td>\n",
       "      <td>0.000000</td>\n",
       "      <td>0.000000</td>\n",
       "      <td>0.000000</td>\n",
       "      <td>0.000000</td>\n",
       "      <td>0.000000</td>\n",
       "      <td>0.000000</td>\n",
       "      <td>0.000000</td>\n",
       "      <td>0.000000</td>\n",
       "      <td>0.000000</td>\n",
       "      <td>0.000000</td>\n",
       "      <td>0.000000</td>\n",
       "    </tr>\n",
       "    <tr>\n",
       "      <th>CG42402</th>\n",
       "      <td>FBtr0301942</td>\n",
       "      <td>0.000000</td>\n",
       "      <td>0.000000</td>\n",
       "      <td>0.000000</td>\n",
       "      <td>0.000000</td>\n",
       "      <td>0.000000</td>\n",
       "      <td>0.000000</td>\n",
       "      <td>0.000000</td>\n",
       "      <td>0.000000</td>\n",
       "      <td>0.000000</td>\n",
       "      <td>0.000000</td>\n",
       "      <td>0.000000</td>\n",
       "      <td>0.000000</td>\n",
       "      <td>0.000000</td>\n",
       "      <td>0.000000</td>\n",
       "      <td>0.000000</td>\n",
       "      <td>0.000000</td>\n",
       "    </tr>\n",
       "  </tbody>\n",
       "</table>\n",
       "</div>"
      ],
      "text/plain": [
       "                t_name     male_10    male_11     male_12    male_13  \\\n",
       "gene_name                                                              \n",
       "CR41571    FBtr0114258    0.000000   0.000000    0.000000   0.000000   \n",
       "CG45784    FBtr0346770    0.000000   0.000000    0.000000   0.000000   \n",
       "CR12798    FBtr0302440    0.000000   0.000000    0.000000   0.000000   \n",
       "CR40182    FBtr0302347   23.712564  11.967821   20.767498  13.566818   \n",
       "CG45783    FBtr0346769    0.000000   0.000000    0.000000   0.000000   \n",
       "CR45220    FBtr0345282    0.000000   0.000000    0.000000   0.000000   \n",
       "CR45220    FBtr0345281    0.000000   0.000000    0.000000   0.000000   \n",
       "spok       FBtr0300207    0.000000   0.000000    0.000000   0.000000   \n",
       "Parp       FBtr0113885   10.997173   0.000000    0.000000   0.000000   \n",
       "Alg-2      FBtr0301810   19.067924   0.000000   14.832370  27.793905   \n",
       "Tim17b     FBtr0113895    6.315716   3.935390    6.244336  69.942917   \n",
       "Tim17b     FBtr0345179  119.325905  11.631035  120.137291  75.778061   \n",
       "CG41128    FBtr0301812    6.421000   0.000000   10.366037  22.998930   \n",
       "CG41099    FBtr0113990   26.929455   0.000000    0.000000  28.792620   \n",
       "CG41099    FBtr0113991    0.000000   0.000000    0.000000   0.000000   \n",
       "CG41099    FBtr0344573    0.000000   0.000000    0.000000   6.290786   \n",
       "CG41099    FBtr0113989    8.754889   0.000000   25.072079  16.968779   \n",
       "CG42402    FBtr0336454    0.000000   0.000000    0.000000   0.000000   \n",
       "CG42402    FBtr0339974    0.000000   0.000000    0.000000   0.000000   \n",
       "CG42402    FBtr0301942    0.000000   0.000000    0.000000   0.000000   \n",
       "\n",
       "            male_14A    male_14B   male_14C   male_14D  female_10  female_11  \\\n",
       "gene_name                                                                      \n",
       "CR41571     0.000000    0.000000   0.000000   0.000000   0.000000   0.000000   \n",
       "CG45784     0.000000    0.000000   0.000000   0.000000   0.000000   0.000000   \n",
       "CR12798     0.000000    0.000000   0.000000   0.000000   0.000000   0.000000   \n",
       "CR40182    18.802116   26.802691  22.819895  11.682728  21.894249  13.922059   \n",
       "CG45783     0.000000    0.000000   0.000000   0.000000   0.000000   0.000000   \n",
       "CR45220     0.000000    0.000000   0.000000   0.000000   0.000000   0.000000   \n",
       "CR45220     0.000000    0.000000   0.000000   0.000000   0.000000   0.000000   \n",
       "spok        0.000000    0.000000   0.000000   0.000000   0.000000   0.000000   \n",
       "Parp       14.805335    0.000000  17.601667  10.729349   0.000000   0.000000   \n",
       "Alg-2      22.290230    7.846396  13.839143  12.905621  18.570707   2.919183   \n",
       "Tim17b     67.208557    7.605970  74.979057  53.740307  44.747662  16.834093   \n",
       "Tim17b     72.815582  123.849213  81.234352  59.657963  48.480839  18.238514   \n",
       "CG41128    25.152847   21.537817  34.438099  17.577929  14.679211   4.000917   \n",
       "CG41099    29.601717    0.000000  21.333294   5.264250  17.742254   0.000000   \n",
       "CG41099     0.000000    0.000000   0.000000   0.000000   0.000000   0.000000   \n",
       "CG41099     0.000000    0.000000   0.000000   0.000000   0.000000   0.000000   \n",
       "CG41099     5.586432    0.000000   0.000000  13.205288  12.339256   0.000000   \n",
       "CG42402     0.000000    0.000000   0.000000   0.000000   0.000000   0.000000   \n",
       "CG42402     0.000000    0.000000   0.000000   0.000000   0.000000   0.000000   \n",
       "CG42402     0.000000    0.000000   0.000000   0.000000   0.000000   0.000000   \n",
       "\n",
       "           female_12  female_13  female_14A  female_14B  female_14C  \\\n",
       "gene_name                                                             \n",
       "CR41571     0.000000   0.000000    0.000000    0.000000    0.000000   \n",
       "CG45784     0.000000   0.000000    0.000000    0.000000    0.000000   \n",
       "CR12798     0.000000   0.000000    0.000000    0.000000    0.000000   \n",
       "CR40182    16.482141  12.622680   31.800016   22.883186   14.330216   \n",
       "CG45783     0.000000   0.000000    0.000000    0.000000    0.000000   \n",
       "CR45220     0.000000   0.000000    0.000000    0.000000    0.000000   \n",
       "CR45220     0.000000   0.000000    0.000000    0.000000    0.000000   \n",
       "spok        0.000000   0.000000    0.000000    0.000000    0.000000   \n",
       "Parp       14.888651  14.518989   20.343670    4.087385    0.000000   \n",
       "Alg-2      18.402807  26.431841   27.464781    7.432775    7.349162   \n",
       "Tim17b     52.928318  77.950165   80.805580   31.863932   49.121342   \n",
       "Tim17b     57.343983  86.686310   87.546967   34.522255   53.219402   \n",
       "CG41128    18.030527  29.636564   33.500099   10.934458   16.522137   \n",
       "CG41099    38.972218  25.751348   55.026825    0.000000    0.000000   \n",
       "CG41099     0.000000   0.000000    0.000000    0.000000    0.000000   \n",
       "CG41099     0.000000   0.000000    0.000000    0.000000    0.000000   \n",
       "CG41099     0.000000   0.000000    4.907310    0.000000   14.397744   \n",
       "CG42402     0.000000   0.000000    0.000000    0.000000    0.000000   \n",
       "CG42402     0.000000   0.000000    0.000000    0.000000    0.000000   \n",
       "CG42402     0.000000   0.000000    0.000000    0.000000    0.000000   \n",
       "\n",
       "           female_14D  \n",
       "gene_name              \n",
       "CR41571      0.000000  \n",
       "CG45784      0.000000  \n",
       "CR12798      0.000000  \n",
       "CR40182     17.202570  \n",
       "CG45783      0.000000  \n",
       "CR45220      0.000000  \n",
       "CR45220      0.284474  \n",
       "spok         0.000000  \n",
       "Parp        25.284622  \n",
       "Alg-2       22.792486  \n",
       "Tim17b      77.608521  \n",
       "Tim17b      84.936600  \n",
       "CG41128     36.918327  \n",
       "CG41099      0.000000  \n",
       "CG41099      0.000000  \n",
       "CG41099      0.000000  \n",
       "CG41099     33.321011  \n",
       "CG42402      0.000000  \n",
       "CG42402      0.000000  \n",
       "CG42402      0.000000  "
      ]
     },
     "execution_count": 3,
     "metadata": {},
     "output_type": "execute_result"
    }
   ],
   "source": [
    "data_fpkms = pd.read_csv(\"fpkms.csv\", index_col = \"gene_name\")\n",
    "data_fpkms.head(20)"
   ]
  },
  {
   "cell_type": "code",
   "execution_count": null,
   "metadata": {},
   "outputs": [],
   "source": []
  },
  {
   "cell_type": "markdown",
   "metadata": {},
   "source": [
    "# Choose male_14A and male_13 as two samples"
   ]
  },
  {
   "cell_type": "code",
   "execution_count": 4,
   "metadata": {},
   "outputs": [],
   "source": [
    "male_14A = data_fpkms.loc[:, \"male_14A\"]\n",
    "male_13 = data_fpkms.loc[:, \"male_13\"]"
   ]
  },
  {
   "cell_type": "code",
   "execution_count": 5,
   "metadata": {},
   "outputs": [
    {
     "data": {
      "text/plain": [
       "gene_name\n",
       "CR41571    0.000000\n",
       "CG45784    0.000000\n",
       "CR12798    0.000000\n",
       "CR40182    4.086098\n",
       "CG45783    0.000000\n",
       "             ...   \n",
       "CR40502    0.000000\n",
       "CR40719    0.000000\n",
       "CR40679    1.832861\n",
       "CR40743    0.000000\n",
       "CR41619    0.000000\n",
       "Length: 34718, dtype: float64"
      ]
     },
     "execution_count": 5,
     "metadata": {},
     "output_type": "execute_result"
    }
   ],
   "source": [
    "average = (1/2) * (np.log2(male_14A + 1) + np.log2(male_13 + 1))\n",
    "average"
   ]
  },
  {
   "cell_type": "code",
   "execution_count": 6,
   "metadata": {},
   "outputs": [
    {
     "data": {
      "text/plain": [
       "gene_name\n",
       "CR41571    0.000000\n",
       "CG45784    0.000000\n",
       "CR12798    0.000000\n",
       "CR40182    0.442969\n",
       "CG45783    0.000000\n",
       "             ...   \n",
       "CR40502    0.000000\n",
       "CR40719    0.000000\n",
       "CR40679    0.434700\n",
       "CR40743    0.000000\n",
       "CR41619    0.000000\n",
       "Length: 34718, dtype: float64"
      ]
     },
     "execution_count": 6,
     "metadata": {},
     "output_type": "execute_result"
    }
   ],
   "source": [
    "ratio = (male_14A + 1)/(male_13 + 1 )\n",
    "log_ratio = np.log2(ratio)\n",
    "log_ratio"
   ]
  },
  {
   "cell_type": "code",
   "execution_count": 7,
   "metadata": {},
   "outputs": [
    {
     "data": {
      "image/png": "[encoded data removed]",
      "text/plain": [
       "<Figure size 432x288 with 1 Axes>"
      ]
     },
     "metadata": {
      "needs_background": "light"
     },
     "output_type": "display_data"
    }
   ],
   "source": [
    "x = average\n",
    "y = log_ratio\n",
    "fig, ax = plt.subplots()\n",
    "ax.scatter(x, y, s= 0.05)\n",
    "ax.set_title(\"MA plot of male 14_A and male 13 \\n R = male_14A, G = male_13\")\n",
    "ax.set_xlabel(\"gene abundance\")\n",
    "ax.set_ylabel(\"log ratio between male 14A and male 13\")\n",
    "plt.show()"
   ]
  },
  {
   "cell_type": "code",
   "execution_count": 8,
   "metadata": {},
   "outputs": [],
   "source": [
    "FBtr0331261 = pd.read_csv(\"fpkms.csv\", index_col = \"t_name\")"
   ]
  },
  {
   "cell_type": "code",
   "execution_count": 9,
   "metadata": {},
   "outputs": [],
   "source": [
    "FBtr0331261 = FBtr0331261.loc[\"FBtr0331261\",:]"
   ]
  },
  {
   "cell_type": "code",
   "execution_count": 10,
   "metadata": {},
   "outputs": [
    {
     "data": {
      "text/plain": [
       "gene_name         Sxl\n",
       "male_10             0\n",
       "male_11             0\n",
       "male_12             0\n",
       "male_13             0\n",
       "male_14A            0\n",
       "male_14B            0\n",
       "male_14C            0\n",
       "male_14D      2.11732\n",
       "female_10           0\n",
       "female_11           0\n",
       "female_12           0\n",
       "female_13           0\n",
       "female_14A    46.0339\n",
       "female_14B    30.6056\n",
       "female_14C    38.9564\n",
       "female_14D    124.908\n",
       "Name: FBtr0331261, dtype: object"
      ]
     },
     "execution_count": 10,
     "metadata": {},
     "output_type": "execute_result"
    }
   ],
   "source": [
    "FBtr0331261"
   ]
  },
  {
   "cell_type": "code",
   "execution_count": 11,
   "metadata": {},
   "outputs": [
    {
     "data": {
      "text/plain": [
       "['10', '11', '12', '13', '14A', '14B', '14C', '14D']"
      ]
     },
     "execution_count": 11,
     "metadata": {},
     "output_type": "execute_result"
    }
   ],
   "source": [
    "x_1 = [\"10\",\"11\",\"12\",\"13\",\"14A\",\"14B\",\"14C\",\"14D\"]\n",
    "x_1"
   ]
  },
  {
   "cell_type": "code",
   "execution_count": 12,
   "metadata": {},
   "outputs": [
    {
     "data": {
      "text/plain": [
       "Index(['female_10', 'female_11', 'female_12', 'female_13', 'female_14A',\n",
       "       'female_14B', 'female_14C', 'female_14D'],\n",
       "      dtype='object')"
      ]
     },
     "execution_count": 12,
     "metadata": {},
     "output_type": "execute_result"
    }
   ],
   "source": [
    "x_2 = FBtr0331261.index[9:]\n",
    "x_2"
   ]
  },
  {
   "cell_type": "code",
   "execution_count": 13,
   "metadata": {},
   "outputs": [],
   "source": [
    "y_1 = FBtr0331261[1:9]\n",
    "y_2 = FBtr0331261[9:]"
   ]
  },
  {
   "cell_type": "code",
   "execution_count": 14,
   "metadata": {},
   "outputs": [
    {
     "data": {
      "image/png": "[encoded data removed]",
      "text/plain": [
       "<Figure size 432x288 with 1 Axes>"
      ]
     },
     "metadata": {
      "needs_background": "light"
     },
     "output_type": "display_data"
    }
   ],
   "source": [
    "fig, ax = plt.subplots()\n",
    "ax.plot(x_1, y_1, label=\"male_10 to 14\")\n",
    "ax.plot(x_1, y_2, label=\"female_10 to 14\")\n",
    "\n",
    "ax.legend()\n",
    "ax.set_title(\"FBtr0331261 abundance over time between male and female\")\n",
    "plt.show()"
   ]
  },
  {
   "cell_type": "code",
   "execution_count": 15,
   "metadata": {},
   "outputs": [
    {
     "data": {
      "text/html": [
       "<div>\n",
       "<style scoped>\n",
       "    .dataframe tbody tr th:only-of-type {\n",
       "        vertical-align: middle;\n",
       "    }\n",
       "\n",
       "    .dataframe tbody tr th {\n",
       "        vertical-align: top;\n",
       "    }\n",
       "\n",
       "    .dataframe thead th {\n",
       "        text-align: right;\n",
       "    }\n",
       "</style>\n",
       "<table border=\"1\" class=\"dataframe\">\n",
       "  <thead>\n",
       "    <tr style=\"text-align: right;\">\n",
       "      <th></th>\n",
       "      <th>male_14A</th>\n",
       "      <th>male_14B</th>\n",
       "      <th>male_14C</th>\n",
       "      <th>male_14D</th>\n",
       "      <th>female_14A</th>\n",
       "      <th>female_14B</th>\n",
       "      <th>female_14C</th>\n",
       "      <th>female_14D</th>\n",
       "      <th>gene_name</th>\n",
       "    </tr>\n",
       "    <tr>\n",
       "      <th>t_name</th>\n",
       "      <th></th>\n",
       "      <th></th>\n",
       "      <th></th>\n",
       "      <th></th>\n",
       "      <th></th>\n",
       "      <th></th>\n",
       "      <th></th>\n",
       "      <th></th>\n",
       "      <th></th>\n",
       "    </tr>\n",
       "  </thead>\n",
       "  <tbody>\n",
       "    <tr>\n",
       "      <th>FBtr0114258</th>\n",
       "      <td>0.000000</td>\n",
       "      <td>0.000000</td>\n",
       "      <td>0.000000</td>\n",
       "      <td>0.000000</td>\n",
       "      <td>0.000000</td>\n",
       "      <td>0.000000</td>\n",
       "      <td>0.000000</td>\n",
       "      <td>0.000000</td>\n",
       "      <td>CR41571</td>\n",
       "    </tr>\n",
       "    <tr>\n",
       "      <th>FBtr0346770</th>\n",
       "      <td>0.000000</td>\n",
       "      <td>0.000000</td>\n",
       "      <td>0.000000</td>\n",
       "      <td>0.000000</td>\n",
       "      <td>0.000000</td>\n",
       "      <td>0.000000</td>\n",
       "      <td>0.000000</td>\n",
       "      <td>0.000000</td>\n",
       "      <td>CG45784</td>\n",
       "    </tr>\n",
       "    <tr>\n",
       "      <th>FBtr0302440</th>\n",
       "      <td>0.000000</td>\n",
       "      <td>0.000000</td>\n",
       "      <td>0.000000</td>\n",
       "      <td>0.000000</td>\n",
       "      <td>0.000000</td>\n",
       "      <td>0.000000</td>\n",
       "      <td>0.000000</td>\n",
       "      <td>0.000000</td>\n",
       "      <td>CR12798</td>\n",
       "    </tr>\n",
       "    <tr>\n",
       "      <th>FBtr0302347</th>\n",
       "      <td>22.995892</td>\n",
       "      <td>38.139065</td>\n",
       "      <td>11.577139</td>\n",
       "      <td>20.456739</td>\n",
       "      <td>60.885391</td>\n",
       "      <td>13.378373</td>\n",
       "      <td>12.462192</td>\n",
       "      <td>17.807884</td>\n",
       "      <td>CR40182</td>\n",
       "    </tr>\n",
       "    <tr>\n",
       "      <th>FBtr0346769</th>\n",
       "      <td>0.000000</td>\n",
       "      <td>0.000000</td>\n",
       "      <td>0.000000</td>\n",
       "      <td>0.000000</td>\n",
       "      <td>0.000000</td>\n",
       "      <td>0.000000</td>\n",
       "      <td>0.000000</td>\n",
       "      <td>0.000000</td>\n",
       "      <td>CG45783</td>\n",
       "    </tr>\n",
       "    <tr>\n",
       "      <th>...</th>\n",
       "      <td>...</td>\n",
       "      <td>...</td>\n",
       "      <td>...</td>\n",
       "      <td>...</td>\n",
       "      <td>...</td>\n",
       "      <td>...</td>\n",
       "      <td>...</td>\n",
       "      <td>...</td>\n",
       "      <td>...</td>\n",
       "    </tr>\n",
       "    <tr>\n",
       "      <th>FBtr0114187</th>\n",
       "      <td>0.000000</td>\n",
       "      <td>0.000000</td>\n",
       "      <td>0.000000</td>\n",
       "      <td>0.000000</td>\n",
       "      <td>0.000000</td>\n",
       "      <td>0.000000</td>\n",
       "      <td>0.000000</td>\n",
       "      <td>0.000000</td>\n",
       "      <td>CR40502</td>\n",
       "    </tr>\n",
       "    <tr>\n",
       "      <th>FBtr0304147</th>\n",
       "      <td>0.000000</td>\n",
       "      <td>0.000000</td>\n",
       "      <td>0.000000</td>\n",
       "      <td>0.000000</td>\n",
       "      <td>0.000000</td>\n",
       "      <td>0.000000</td>\n",
       "      <td>0.000000</td>\n",
       "      <td>0.000000</td>\n",
       "      <td>CR40719</td>\n",
       "    </tr>\n",
       "    <tr>\n",
       "      <th>FBtr0114216</th>\n",
       "      <td>1.459697</td>\n",
       "      <td>0.731757</td>\n",
       "      <td>2.716971</td>\n",
       "      <td>65.821503</td>\n",
       "      <td>2.207145</td>\n",
       "      <td>0.900668</td>\n",
       "      <td>1.074907</td>\n",
       "      <td>2.320014</td>\n",
       "      <td>CR40679</td>\n",
       "    </tr>\n",
       "    <tr>\n",
       "      <th>FBtr0114222</th>\n",
       "      <td>0.000000</td>\n",
       "      <td>0.000000</td>\n",
       "      <td>0.000000</td>\n",
       "      <td>0.000000</td>\n",
       "      <td>0.000000</td>\n",
       "      <td>0.000000</td>\n",
       "      <td>0.000000</td>\n",
       "      <td>0.000000</td>\n",
       "      <td>CR40743</td>\n",
       "    </tr>\n",
       "    <tr>\n",
       "      <th>FBtr0114283</th>\n",
       "      <td>0.000000</td>\n",
       "      <td>0.000000</td>\n",
       "      <td>0.000000</td>\n",
       "      <td>0.000000</td>\n",
       "      <td>0.000000</td>\n",
       "      <td>0.000000</td>\n",
       "      <td>0.000000</td>\n",
       "      <td>0.000000</td>\n",
       "      <td>CR41619</td>\n",
       "    </tr>\n",
       "  </tbody>\n",
       "</table>\n",
       "<p>34718 rows × 9 columns</p>\n",
       "</div>"
      ],
      "text/plain": [
       "              male_14A   male_14B   male_14C   male_14D  female_14A  \\\n",
       "t_name                                                                \n",
       "FBtr0114258   0.000000   0.000000   0.000000   0.000000    0.000000   \n",
       "FBtr0346770   0.000000   0.000000   0.000000   0.000000    0.000000   \n",
       "FBtr0302440   0.000000   0.000000   0.000000   0.000000    0.000000   \n",
       "FBtr0302347  22.995892  38.139065  11.577139  20.456739   60.885391   \n",
       "FBtr0346769   0.000000   0.000000   0.000000   0.000000    0.000000   \n",
       "...                ...        ...        ...        ...         ...   \n",
       "FBtr0114187   0.000000   0.000000   0.000000   0.000000    0.000000   \n",
       "FBtr0304147   0.000000   0.000000   0.000000   0.000000    0.000000   \n",
       "FBtr0114216   1.459697   0.731757   2.716971  65.821503    2.207145   \n",
       "FBtr0114222   0.000000   0.000000   0.000000   0.000000    0.000000   \n",
       "FBtr0114283   0.000000   0.000000   0.000000   0.000000    0.000000   \n",
       "\n",
       "             female_14B  female_14C  female_14D gene_name  \n",
       "t_name                                                     \n",
       "FBtr0114258    0.000000    0.000000    0.000000   CR41571  \n",
       "FBtr0346770    0.000000    0.000000    0.000000   CG45784  \n",
       "FBtr0302440    0.000000    0.000000    0.000000   CR12798  \n",
       "FBtr0302347   13.378373   12.462192   17.807884   CR40182  \n",
       "FBtr0346769    0.000000    0.000000    0.000000   CG45783  \n",
       "...                 ...         ...         ...       ...  \n",
       "FBtr0114187    0.000000    0.000000    0.000000   CR40502  \n",
       "FBtr0304147    0.000000    0.000000    0.000000   CR40719  \n",
       "FBtr0114216    0.900668    1.074907    2.320014   CR40679  \n",
       "FBtr0114222    0.000000    0.000000    0.000000   CR40743  \n",
       "FBtr0114283    0.000000    0.000000    0.000000   CR41619  \n",
       "\n",
       "[34718 rows x 9 columns]"
      ]
     },
     "execution_count": 15,
     "metadata": {},
     "output_type": "execute_result"
    }
   ],
   "source": [
    "replicates = pd.read_csv(\"replicates.csv\", index_col = \"t_name\")\n",
    "replicates"
   ]
  },
  {
   "cell_type": "code",
   "execution_count": 25,
   "metadata": {},
   "outputs": [
    {
     "data": {
      "text/plain": [
       "male_14A            0\n",
       "male_14B            0\n",
       "male_14C            0\n",
       "male_14D            0\n",
       "female_14A          0\n",
       "female_14B    79.1035\n",
       "female_14C    182.233\n",
       "female_14D    2.40947\n",
       "gene_name         Sxl\n",
       "Name: FBtr0331261, dtype: object"
      ]
     },
     "execution_count": 25,
     "metadata": {},
     "output_type": "execute_result"
    }
   ],
   "source": [
    "rep"
   ]
  },
  {
   "cell_type": "code",
   "execution_count": 16,
   "metadata": {},
   "outputs": [],
   "source": [
    "rep = replicates.loc[\"FBtr0331261\",:]\n",
    "x_3 = [\"14A\", \"14B\", \"14C\", \"14D\"]\n",
    "male_rep = rep[0:4]\n",
    "female_rep = rep[4:8]"
   ]
  },
  {
   "cell_type": "code",
   "execution_count": 24,
   "metadata": {
    "scrolled": true
   },
   "outputs": [
    {
     "data": {
      "image/png": "[encoded data removed]",
      "text/plain": [
       "<Figure size 432x288 with 1 Axes>"
      ]
     },
     "metadata": {
      "needs_background": "light"
     },
     "output_type": "display_data"
    }
   ],
   "source": [
    "fig, ax = plt.subplots()\n",
    "ax.plot(x_1, y_1, c= \"red\", label=\"male_10 to 14\")\n",
    "ax.plot(x_1, y_2, c= \"blue\", label=\"female_10 to 14\")\n",
    "ax.plot(x_3, male_rep,\"+\", c=\"black\", label=\"male replica\")\n",
    "ax.plot(x_3, female_rep, \"*\", c=\"green\", label=\"female replica\")\n",
    "ax.legend()\n",
    "ax.set_title(\"FBtr0331261 abundance over time between male and female\")\n",
    "plt.show()"
   ]
  },
  {
   "cell_type": "code",
   "execution_count": null,
   "metadata": {},
   "outputs": [],
   "source": []
  },
  {
   "cell_type": "code",
   "execution_count": null,
   "metadata": {},
   "outputs": [],
   "source": []
  },
  {
   "cell_type": "code",
   "execution_count": null,
   "metadata": {},
   "outputs": [],
   "source": []
  },
  {
   "cell_type": "code",
   "execution_count": null,
   "metadata": {},
   "outputs": [],
   "source": []
  },
  {
   "cell_type": "code",
   "execution_count": 18,
   "metadata": {},
   "outputs": [
    {
     "data": {
      "text/plain": [
       "male_14A    0\n",
       "male_14B    0\n",
       "male_14C    0\n",
       "male_14D    0\n",
       "Name: FBtr0331261, dtype: object"
      ]
     },
     "execution_count": 18,
     "metadata": {},
     "output_type": "execute_result"
    }
   ],
   "source": [
    "male_rep"
   ]
  },
  {
   "cell_type": "code",
   "execution_count": 19,
   "metadata": {},
   "outputs": [
    {
     "data": {
      "text/plain": [
       "Index(['CR41571', 'CG45784', 'CR12798', 'CR40182', 'CG45783', 'CR45220',\n",
       "       'CR45220',    'spok',    'Parp',   'Alg-2',\n",
       "       ...\n",
       "       'CR40573', 'CR40613', 'CR41544', 'CR40640', 'CR41620', 'CR40502',\n",
       "       'CR40719', 'CR40679', 'CR40743', 'CR41619'],\n",
       "      dtype='object', name='gene_name', length=34718)"
      ]
     },
     "execution_count": 19,
     "metadata": {},
     "output_type": "execute_result"
    }
   ],
   "source": [
    "data_fpkms.index"
   ]
  },
  {
   "cell_type": "code",
   "execution_count": 20,
   "metadata": {},
   "outputs": [
    {
     "data": {
      "text/plain": [
       "34718"
      ]
     },
     "execution_count": 20,
     "metadata": {},
     "output_type": "execute_result"
    }
   ],
   "source": [
    "len(data_fpkms.index)"
   ]
  },
  {
   "cell_type": "code",
   "execution_count": 21,
   "metadata": {},
   "outputs": [
    {
     "name": "stdout",
     "output_type": "stream",
     "text": [
      "sisB 21677\n",
      "Sxl 23415\n",
      "Sxl 23416\n",
      "Sxl 23417\n",
      "Sxl 23418\n",
      "Sxl 23419\n",
      "Sxl 23420\n",
      "Sxl 23421\n",
      "Sxl 23422\n",
      "Sxl 23423\n",
      "Sxl 23424\n",
      "Sxl 23425\n",
      "Sxl 23426\n",
      "Sxl 23427\n",
      "Sxl 23428\n",
      "Sxl 23429\n",
      "Sxl 23430\n",
      "Sxl 23431\n",
      "Sxl 23432\n",
      "Sxl 23433\n",
      "Sxl 23434\n",
      "Sxl 23435\n",
      "Sxl 23436\n",
      "Sxl 23437\n",
      "Sxl 23438\n",
      "Sxl 23439\n",
      "sisA 24470\n",
      "run 27199\n",
      "run 27200\n",
      "run 27201\n",
      "msl-2 28625\n",
      "msl-2 28626\n"
     ]
    },
    {
     "ename": "IndexError",
     "evalue": "index 34718 is out of bounds for axis 0 with size 34718",
     "output_type": "error",
     "traceback": [
      "\u001b[0;31m--------------------------------------------------------------------------\u001b[0m",
      "\u001b[0;31mIndexError\u001b[0m                               Traceback (most recent call last)",
      "\u001b[0;32m<ipython-input-21-860df41faa45>\u001b[0m in \u001b[0;36m<module>\u001b[0;34m\u001b[0m\n\u001b[1;32m      1\u001b[0m \u001b[0;32mfor\u001b[0m \u001b[0mi\u001b[0m \u001b[0;32min\u001b[0m \u001b[0mrange\u001b[0m\u001b[0;34m(\u001b[0m\u001b[0;36m0\u001b[0m\u001b[0;34m,\u001b[0m \u001b[0mlen\u001b[0m\u001b[0;34m(\u001b[0m\u001b[0mdata_fpkms\u001b[0m\u001b[0;34m.\u001b[0m\u001b[0mindex\u001b[0m\u001b[0;34m)\u001b[0m\u001b[0;34m+\u001b[0m\u001b[0;36m1\u001b[0m\u001b[0;34m)\u001b[0m\u001b[0;34m:\u001b[0m\u001b[0;34m\u001b[0m\u001b[0;34m\u001b[0m\u001b[0m\n\u001b[0;32m----> 2\u001b[0;31m     \u001b[0;32mif\u001b[0m \u001b[0mdata_fpkms\u001b[0m\u001b[0;34m.\u001b[0m\u001b[0mindex\u001b[0m\u001b[0;34m[\u001b[0m\u001b[0mi\u001b[0m\u001b[0;34m]\u001b[0m \u001b[0;34m==\u001b[0m \u001b[0;34m\"sisA\"\u001b[0m\u001b[0;34m:\u001b[0m\u001b[0;34m\u001b[0m\u001b[0;34m\u001b[0m\u001b[0m\n\u001b[0m\u001b[1;32m      3\u001b[0m         \u001b[0mprint\u001b[0m \u001b[0;34m(\u001b[0m\u001b[0;34m\"sisA\"\u001b[0m\u001b[0;34m,\u001b[0m \u001b[0mi\u001b[0m\u001b[0;34m)\u001b[0m\u001b[0;34m\u001b[0m\u001b[0;34m\u001b[0m\u001b[0m\n\u001b[1;32m      4\u001b[0m     \u001b[0;32melif\u001b[0m \u001b[0mdata_fpkms\u001b[0m\u001b[0;34m.\u001b[0m\u001b[0mindex\u001b[0m\u001b[0;34m[\u001b[0m\u001b[0mi\u001b[0m\u001b[0;34m]\u001b[0m \u001b[0;34m==\u001b[0m \u001b[0;34m\"sc\"\u001b[0m\u001b[0;34m:\u001b[0m\u001b[0;34m\u001b[0m\u001b[0;34m\u001b[0m\u001b[0m\n\u001b[1;32m      5\u001b[0m         \u001b[0mprint\u001b[0m \u001b[0;34m(\u001b[0m\u001b[0;34m\"sisB\"\u001b[0m\u001b[0;34m,\u001b[0m \u001b[0mi\u001b[0m\u001b[0;34m)\u001b[0m\u001b[0;34m\u001b[0m\u001b[0;34m\u001b[0m\u001b[0m\n",
      "\u001b[0;32m~/miniconda3/lib/python3.7/site-packages/pandas/core/indexes/base.py\u001b[0m in \u001b[0;36m__getitem__\u001b[0;34m(self, key)\u001b[0m\n\u001b[1;32m   4099\u001b[0m         \u001b[0;32mif\u001b[0m \u001b[0mis_scalar\u001b[0m\u001b[0;34m(\u001b[0m\u001b[0mkey\u001b[0m\u001b[0;34m)\u001b[0m\u001b[0;34m:\u001b[0m\u001b[0;34m\u001b[0m\u001b[0;34m\u001b[0m\u001b[0m\n\u001b[1;32m   4100\u001b[0m             \u001b[0mkey\u001b[0m \u001b[0;34m=\u001b[0m \u001b[0mcom\u001b[0m\u001b[0;34m.\u001b[0m\u001b[0mcast_scalar_indexer\u001b[0m\u001b[0;34m(\u001b[0m\u001b[0mkey\u001b[0m\u001b[0;34m,\u001b[0m \u001b[0mwarn_float\u001b[0m\u001b[0;34m=\u001b[0m\u001b[0;32mTrue\u001b[0m\u001b[0;34m)\u001b[0m\u001b[0;34m\u001b[0m\u001b[0;34m\u001b[0m\u001b[0m\n\u001b[0;32m-> 4101\u001b[0;31m             \u001b[0;32mreturn\u001b[0m \u001b[0mgetitem\u001b[0m\u001b[0;34m(\u001b[0m\u001b[0mkey\u001b[0m\u001b[0;34m)\u001b[0m\u001b[0;34m\u001b[0m\u001b[0;34m\u001b[0m\u001b[0m\n\u001b[0m\u001b[1;32m   4102\u001b[0m \u001b[0;34m\u001b[0m\u001b[0m\n\u001b[1;32m   4103\u001b[0m         \u001b[0;32mif\u001b[0m \u001b[0misinstance\u001b[0m\u001b[0;34m(\u001b[0m\u001b[0mkey\u001b[0m\u001b[0;34m,\u001b[0m \u001b[0mslice\u001b[0m\u001b[0;34m)\u001b[0m\u001b[0;34m:\u001b[0m\u001b[0;34m\u001b[0m\u001b[0;34m\u001b[0m\u001b[0m\n",
      "\u001b[0;31mIndexError\u001b[0m: index 34718 is out of bounds for axis 0 with size 34718"
     ]
    }
   ],
   "source": [
    "for i in range(0, len(data_fpkms.index)+1):\n",
    "    if data_fpkms.index[i] == \"sisA\":\n",
    "        print (\"sisA\", i)\n",
    "    elif data_fpkms.index[i] == \"sc\":\n",
    "        print (\"sisB\", i)\n",
    "    elif data_fpkms.index[i] == \"Sxl\":\n",
    "        print (\"Sxl\", i)\n",
    "    elif data_fpkms.index[i] == \"run\":\n",
    "        print(\"run\", i)\n",
    "    elif data_fpkms.index[i] == \"msl-2\":\n",
    "        print(\"msl-2\", i)\n",
    "    else:\n",
    "        continue"
   ]
  },
  {
   "cell_type": "code",
   "execution_count": null,
   "metadata": {},
   "outputs": [],
   "source": [
    "sisA = data_fpkms.loc[[\"sisA\"], :]\n",
    "sisA_avg = (1/2) * np.log2((sisA.loc[\"sisA\", \"male_13\"]+1)*(sisA.loc[\"sisA\", \"male_14A\"]+1))\n",
    "sisA_ratio = np.log2((sisA.loc[\"sisA\", \"male_13\"]+1)/(sisA.loc[\"sisA\", \"male_14A\"]+1))"
   ]
  },
  {
   "cell_type": "code",
   "execution_count": null,
   "metadata": {},
   "outputs": [],
   "source": [
    "Sxl = data_fpkms.loc[[\"Sxl\"], :]\n",
    "Sxl_avg = (1/2) * np.log2((Sxl.loc[: , \"male_13\"]+1)*(Sxl.loc[: , \"male_14A\"]+1))\n",
    "Sxl_ratio = np.log2((Sxl.loc[: , \"male_13\"]+1)/(Sxl.loc[: , \"male_14A\"]+1))"
   ]
  },
  {
   "cell_type": "code",
   "execution_count": null,
   "metadata": {},
   "outputs": [],
   "source": [
    "run = data_fpkms.loc[[\"run\"], :]\n",
    "run_avg = (1/2) * np.log2((run.loc[: , \"male_13\"]+1)*(run.loc[: , \"male_14A\"]+1))\n",
    "run_ratio = np.log2((run.loc[: , \"male_13\"]+1)/(run.loc[: , \"male_14A\"]+1))"
   ]
  },
  {
   "cell_type": "code",
   "execution_count": null,
   "metadata": {
    "scrolled": true
   },
   "outputs": [],
   "source": [
    "sc = data_fpkms.loc[[\"sc\"], :]\n",
    "sc_avg = (1/2) * np.log2((sc.loc[: , \"male_13\"]+1)*(sc.loc[: , \"male_14A\"]+1))\n",
    "sc_ratio = np.log2((sc.loc[: , \"male_13\"]+1)/(sc.loc[: , \"male_14A\"]+1))"
   ]
  },
  {
   "cell_type": "code",
   "execution_count": null,
   "metadata": {},
   "outputs": [],
   "source": [
    "a = data_fpkms.loc[[\"msl-2\"], :]\n",
    "a\n",
    "avg = (1/2) * np.log2((a.loc[: , \"male_13\"]+1)*(a.loc[: , \"male_14A\"]+1))\n",
    "ratio = np.log2((a.loc[: , \"male_13\"]+1)/(a.loc[: , \"male_14A\"]+1))\n",
    "len(avg)"
   ]
  },
  {
   "cell_type": "code",
   "execution_count": null,
   "metadata": {},
   "outputs": [],
   "source": [
    "len(ratio)"
   ]
  },
  {
   "cell_type": "code",
   "execution_count": null,
   "metadata": {
    "scrolled": true
   },
   "outputs": [],
   "source": [
    "x = average\n",
    "y = log_ratio\n",
    "fig, ax = plt.subplots()\n",
    "ax.scatter(x, y, s= 0.05)\n",
    "ax.scatter(sisA_avg, -sisA_ratio, s= 0.05)\n",
    "ax.scatter(Sxl_avg, -Sxl_ratio, s= 0.2, c = \"green\")\n",
    "ax.scatter(run_avg, -run_ratio, s= 0.2, c = \"blue\")\n",
    "ax.scatter(sc_avg, -sc_ratio, s= 0.2, c = \"yellow\")\n",
    "ax.scatter(avg, -ratio, s= 0.2, c = \"purple\")\n",
    "ax.set_title.scatter(sc_avg, sc_ratio, s= 0.05)(\"MA plot of male 14_A and male 13 \\n R = male_14A, G = male_13\")\n",
    "ax.set_xlabel(\"gene abundance\")\n",
    "ax.set_ylabel(\"log ratio between male 14A and male 13\")\n",
    "plt.show()"
   ]
  },
  {
   "cell_type": "code",
   "execution_count": null,
   "metadata": {},
   "outputs": [],
   "source": [
    "fig, ax = plt.subplots()\n",
    "ax.scatter(sisA_avg, -sisA_ratio, s= 1, c = \"red\")\n",
    "ax.scatter(Sxl_avg, -Sxl_ratio, s= 21, c = \"green\")\n",
    "ax.scatter(run_avg, -run_ratio, s= 2, c = \"blue\")\n",
    "ax.scatter(sc_avg, -sc_ratio, s= 1, c = \"yellow\")\n",
    "#ax.scatter(avg, -ratio, s= 0.2, c = \"purple\")\n",
    "# ax.set_title.scatter(sc_avg, sc_ratio, s= 0.05)(\"MA plot of male 14_A and male 13 \\n R = male_14A, G = male_13\")\n",
    "# ax.set_xlabel(\"gene abundance\")\n",
    "# ax.set_ylabel(\"log ratio between male 14A and male 13\")\n",
    "plt.show()"
   ]
  },
  {
   "cell_type": "code",
   "execution_count": null,
   "metadata": {},
   "outputs": [],
   "source": [
    "fig, ax = plt.subplots()\n",
    "ax.scatter(Sxl_avg, -Sxl_ratio, s= 21, c = \"green\")"
   ]
  },
  {
   "cell_type": "code",
   "execution_count": null,
   "metadata": {},
   "outputs": [],
   "source": [
    "Sxl_ratio"
   ]
  },
  {
   "cell_type": "code",
   "execution_count": null,
   "metadata": {},
   "outputs": [],
   "source": [
    "Sxl = data_fpkms.loc[[\"Sxl\"], :]\n",
    "Sxl"
   ]
  },
  {
   "cell_type": "code",
   "execution_count": null,
   "metadata": {},
   "outputs": [],
   "source": []
  }
 ],
 "metadata": {
  "kernelspec": {
   "display_name": "Python 3",
   "language": "python",
   "name": "python3"
  },
  "language_info": {
   "codemirror_mode": {
    "name": "ipython",
    "version": 3
   },
   "file_extension": ".py",
   "mimetype": "text/x-python",
   "name": "python",
   "nbconvert_exporter": "python",
   "pygments_lexer": "ipython3",
   "version": "3.7.1"
  }
 },
 "nbformat": 4,
 "nbformat_minor": 4
}
