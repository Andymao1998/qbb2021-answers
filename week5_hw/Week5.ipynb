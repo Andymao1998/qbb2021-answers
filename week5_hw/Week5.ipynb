{
 "cells": [
  {
   "cell_type": "code",
   "execution_count": 1,
   "metadata": {},
   "outputs": [],
   "source": [
    "import pandas as pd \n",
    "import matplotlib.pyplot as plt\n",
    "import numpy as np"
   ]
  },
  {
   "cell_type": "code",
   "execution_count": 2,
   "metadata": {},
   "outputs": [],
   "source": [
    "df_G1E = pd.read_table(\"~/qbb2021-answers/week5_hw/G1E_intersect\", sep = \"\\s+\", names = ['CHR', 'Start', 'End', 'type', 'default', 'polarity'])\n",
    "df_ER4 = pd.read_table(\"~/qbb2021-answers/week5_hw/ER4_intersect\", sep = \"\\s+\", names = ['CHR', 'Start', 'End', 'type', 'default', 'polarity'])"
   ]
  },
  {
   "cell_type": "code",
   "execution_count": 3,
   "metadata": {},
   "outputs": [
    {
     "data": {
      "text/plain": [
       "intron      225\n",
       "exon         58\n",
       "promoter     41\n",
       "Name: type, dtype: int64"
      ]
     },
     "execution_count": 3,
     "metadata": {},
     "output_type": "execute_result"
    }
   ],
   "source": [
    "G1Etype = df_G1E[\"type\"].value_counts()\n",
    "G1Etype"
   ]
  },
  {
   "cell_type": "code",
   "execution_count": 4,
   "metadata": {},
   "outputs": [],
   "source": [
    "ER4type = df_ER4[\"type\"].value_counts()\n",
    "ER4type = ER4type[0:3]"
   ]
  },
  {
   "cell_type": "code",
   "execution_count": 6,
   "metadata": {},
   "outputs": [],
   "source": [
    "sites_gained = pd.read_table(\"~/qbb2021-answers/week5_hw/sites_gained_after_diferentiation\", sep = \"\\s+\", names = ['CHR', 'Start', 'End', 'type', 'default', 'polarity'])\n",
    "sites_lost = pd.read_table(\"~/qbb2021-answers/week5_hw/sites_lost_after_diferentiation\", sep = \"\\s+\", names = ['CHR', 'Start', 'End', 'type', 'default', 'polarity'])"
   ]
  },
  {
   "cell_type": "code",
   "execution_count": 7,
   "metadata": {
    "scrolled": false
   },
   "outputs": [
    {
     "data": {
      "text/html": [
       "<div>\n",
       "<style scoped>\n",
       "    .dataframe tbody tr th:only-of-type {\n",
       "        vertical-align: middle;\n",
       "    }\n",
       "\n",
       "    .dataframe tbody tr th {\n",
       "        vertical-align: top;\n",
       "    }\n",
       "\n",
       "    .dataframe thead th {\n",
       "        text-align: right;\n",
       "    }\n",
       "</style>\n",
       "<table border=\"1\" class=\"dataframe\">\n",
       "  <thead>\n",
       "    <tr style=\"text-align: right;\">\n",
       "      <th></th>\n",
       "      <th>CHR</th>\n",
       "      <th>Start</th>\n",
       "      <th>End</th>\n",
       "      <th>type</th>\n",
       "      <th>default</th>\n",
       "      <th>polarity</th>\n",
       "    </tr>\n",
       "  </thead>\n",
       "  <tbody>\n",
       "    <tr>\n",
       "      <th>0</th>\n",
       "      <td>chr19</td>\n",
       "      <td>4136261</td>\n",
       "      <td>4136303</td>\n",
       "      <td>intron</td>\n",
       "      <td>.</td>\n",
       "      <td>-</td>\n",
       "    </tr>\n",
       "    <tr>\n",
       "      <th>1</th>\n",
       "      <td>chr19</td>\n",
       "      <td>4136114</td>\n",
       "      <td>4136261</td>\n",
       "      <td>exon</td>\n",
       "      <td>.</td>\n",
       "      <td>-</td>\n",
       "    </tr>\n",
       "    <tr>\n",
       "      <th>2</th>\n",
       "      <td>chr19</td>\n",
       "      <td>4136076</td>\n",
       "      <td>4136114</td>\n",
       "      <td>intron</td>\n",
       "      <td>.</td>\n",
       "      <td>-</td>\n",
       "    </tr>\n",
       "    <tr>\n",
       "      <th>3</th>\n",
       "      <td>chr19</td>\n",
       "      <td>4169535</td>\n",
       "      <td>4169760</td>\n",
       "      <td>exon</td>\n",
       "      <td>.</td>\n",
       "      <td>-</td>\n",
       "    </tr>\n",
       "    <tr>\n",
       "      <th>4</th>\n",
       "      <td>chr19</td>\n",
       "      <td>4169535</td>\n",
       "      <td>4169760</td>\n",
       "      <td>promoter</td>\n",
       "      <td>.</td>\n",
       "      <td>+</td>\n",
       "    </tr>\n",
       "    <tr>\n",
       "      <th>...</th>\n",
       "      <td>...</td>\n",
       "      <td>...</td>\n",
       "      <td>...</td>\n",
       "      <td>...</td>\n",
       "      <td>...</td>\n",
       "      <td>...</td>\n",
       "    </tr>\n",
       "    <tr>\n",
       "      <th>96</th>\n",
       "      <td>chr19</td>\n",
       "      <td>57482938</td>\n",
       "      <td>57483122</td>\n",
       "      <td>intron</td>\n",
       "      <td>.</td>\n",
       "      <td>+</td>\n",
       "    </tr>\n",
       "    <tr>\n",
       "      <th>97</th>\n",
       "      <td>chr19</td>\n",
       "      <td>57816673</td>\n",
       "      <td>57816852</td>\n",
       "      <td>intron</td>\n",
       "      <td>.</td>\n",
       "      <td>+</td>\n",
       "    </tr>\n",
       "    <tr>\n",
       "      <th>98</th>\n",
       "      <td>chr19</td>\n",
       "      <td>57876228</td>\n",
       "      <td>57876363</td>\n",
       "      <td>intron</td>\n",
       "      <td>.</td>\n",
       "      <td>+</td>\n",
       "    </tr>\n",
       "    <tr>\n",
       "      <th>99</th>\n",
       "      <td>chr19</td>\n",
       "      <td>57998042</td>\n",
       "      <td>57998173</td>\n",
       "      <td>intron</td>\n",
       "      <td>.</td>\n",
       "      <td>+</td>\n",
       "    </tr>\n",
       "    <tr>\n",
       "      <th>100</th>\n",
       "      <td>chr19</td>\n",
       "      <td>58911499</td>\n",
       "      <td>58911634</td>\n",
       "      <td>promoter</td>\n",
       "      <td>.</td>\n",
       "      <td>-</td>\n",
       "    </tr>\n",
       "  </tbody>\n",
       "</table>\n",
       "<p>101 rows × 6 columns</p>\n",
       "</div>"
      ],
      "text/plain": [
       "       CHR     Start       End      type default polarity\n",
       "0    chr19   4136261   4136303    intron       .        -\n",
       "1    chr19   4136114   4136261      exon       .        -\n",
       "2    chr19   4136076   4136114    intron       .        -\n",
       "3    chr19   4169535   4169760      exon       .        -\n",
       "4    chr19   4169535   4169760  promoter       .        +\n",
       "..     ...       ...       ...       ...     ...      ...\n",
       "96   chr19  57482938  57483122    intron       .        +\n",
       "97   chr19  57816673  57816852    intron       .        +\n",
       "98   chr19  57876228  57876363    intron       .        +\n",
       "99   chr19  57998042  57998173    intron       .        +\n",
       "100  chr19  58911499  58911634  promoter       .        -\n",
       "\n",
       "[101 rows x 6 columns]"
      ]
     },
     "execution_count": 7,
     "metadata": {},
     "output_type": "execute_result"
    }
   ],
   "source": [
    "sites_gained"
   ]
  },
  {
   "cell_type": "code",
   "execution_count": 67,
   "metadata": {},
   "outputs": [],
   "source": [
    "keys_gained, counts_gained = np.unique(sites_gained[\"type\"], return_counts=True)\n",
    "keys_lost, counts_lost = np.unique(sites_lost[\"type\"], return_counts=True)"
   ]
  },
  {
   "cell_type": "code",
   "execution_count": 72,
   "metadata": {},
   "outputs": [
    {
     "data": {
      "text/plain": [
       "array(['exon', 'intron', 'promoter'], dtype=object)"
      ]
     },
     "execution_count": 72,
     "metadata": {},
     "output_type": "execute_result"
    }
   ],
   "source": [
    "keys_gained"
   ]
  },
  {
   "cell_type": "code",
   "execution_count": 65,
   "metadata": {},
   "outputs": [
    {
     "data": {
      "text/plain": [
       "array([ 3, 16])"
      ]
     },
     "execution_count": 65,
     "metadata": {},
     "output_type": "execute_result"
    }
   ],
   "source": [
    "counts_lost"
   ]
  },
  {
   "cell_type": "code",
   "execution_count": 68,
   "metadata": {},
   "outputs": [],
   "source": [
    "counts_lost = np.append(counts_lost, 0)"
   ]
  },
  {
   "cell_type": "code",
   "execution_count": 69,
   "metadata": {},
   "outputs": [
    {
     "data": {
      "text/plain": [
       "array([ 3, 16,  0])"
      ]
     },
     "execution_count": 69,
     "metadata": {},
     "output_type": "execute_result"
    }
   ],
   "source": [
    "counts_lost"
   ]
  },
  {
   "cell_type": "code",
   "execution_count": 74,
   "metadata": {},
   "outputs": [
    {
     "data": {
      "image/png": "[encoded data removed]",
      "text/plain": [
       "<Figure size 1440x720 with 2 Axes>"
      ]
     },
     "metadata": {
      "needs_background": "light"
     },
     "output_type": "display_data"
    }
   ],
   "source": [
    "x = ['intron', 'exon', 'promoter']\n",
    "\n",
    "N = 3\n",
    "\n",
    "\n",
    "blue_bar = (225, 58, 41)\n",
    "orange_bar = (279, 79, 57)\n",
    "ind = np.arange(N)\n",
    "\n",
    "width = 0.3       \n",
    "\n",
    "fig, ax = plt.subplots(figsize=(20,10), ncols = 2)\n",
    "\n",
    "ax[0].bar(ind, blue_bar , width, label='G1Etype')\n",
    "ax[0].bar(ind + width, orange_bar, width, label='ER4type')\n",
    "\n",
    "ax[0].set_xlabel('gene type')\n",
    "ax[0].set_ylabel('Number')\n",
    "ax[0].set_title('Feature of CTCF binding sites')\n",
    "\n",
    "\n",
    "ax[0].set_xticks(ind + width / 2)\n",
    "ax[0].set_xticklabels(['intron', 'exon', 'promoter'])\n",
    "\n",
    "ax[0].legend(loc='right')\n",
    "\n",
    "ax[1].bar(ind, counts_gained.tolist(), width, label='Peaks gained after differentiation')\n",
    "ax[1].bar(ind + width, counts_lost.tolist(), width, label='Peaks lost after differentiation')\n",
    "ax[1].set_xticks(ind + width / 2)\n",
    "ax[1].set_xticklabels(['exon', 'intron', 'promoter'])\n",
    "\n",
    "ax[1].legend(loc='upper right')\n",
    "\n",
    "ax[1].set_title('Feature of CTCF binding sites lost or gained')\n",
    "\n",
    "plt.show()\n"
   ]
  },
  {
   "cell_type": "code",
   "execution_count": null,
   "metadata": {},
   "outputs": [],
   "source": []
  }
 ],
 "metadata": {
  "kernelspec": {
   "display_name": "Python 3",
   "language": "python",
   "name": "python3"
  },
  "language_info": {
   "codemirror_mode": {
    "name": "ipython",
    "version": 3
   },
   "file_extension": ".py",
   "mimetype": "text/x-python",
   "name": "python",
   "nbconvert_exporter": "python",
   "pygments_lexer": "ipython3",
   "version": "3.6.13"
  }
 },
 "nbformat": 4,
 "nbformat_minor": 4
}
