{
 "cells": [
  {
   "cell_type": "code",
   "execution_count": 3,
   "metadata": {},
   "outputs": [],
   "source": [
    "import pandas as pd \n",
    "import matplotlib.pyplot as plt"
   ]
  },
  {
   "cell_type": "code",
   "execution_count": 4,
   "metadata": {},
   "outputs": [],
   "source": [
    "df_G1E = pd.read_table(\"~/qbb2021-answers/week5_hw/G1E_intersect\", sep = \"\\s+\", names = ['CHR', 'Start', 'End', 'type', 'default', 'polarity'])\n",
    "df_ER4 = pd.read_table(\"~/qbb2021-answers/week5_hw/ER4_intersect\", sep = \"\\s+\", names = ['CHR', 'Start', 'End', 'type', 'default', 'polarity'])"
   ]
  },
  {
   "cell_type": "code",
   "execution_count": 50,
   "metadata": {},
   "outputs": [
    {
     "data": {
      "text/plain": [
       "intron      225\n",
       "exon         58\n",
       "promoter     41\n",
       "Name: type, dtype: int64"
      ]
     },
     "execution_count": 50,
     "metadata": {},
     "output_type": "execute_result"
    }
   ],
   "source": [
    "G1Etype = df_G1E[\"type\"].value_counts()\n",
    "G1Etype"
   ]
  },
  {
   "cell_type": "code",
   "execution_count": 51,
   "metadata": {},
   "outputs": [
    {
     "data": {
      "text/plain": [
       "intron      279\n",
       "exon         79\n",
       "promoter     57\n",
       "Name: type, dtype: int64"
      ]
     },
     "execution_count": 51,
     "metadata": {},
     "output_type": "execute_result"
    }
   ],
   "source": [
    "ER4type = df_ER4[\"type\"].value_counts()\n",
    "ER4type"
   ]
  },
  {
   "cell_type": "code",
   "execution_count": 54,
   "metadata": {},
   "outputs": [
    {
     "data": {
      "image/png": "[encoded data removed]",
      "text/plain": [
       "<Figure size 720x576 with 2 Axes>"
      ]
     },
     "metadata": {
      "needs_background": "light"
     },
     "output_type": "display_data"
    }
   ],
   "source": [
    "fig, axes = plt.subplots(1, 2, figsize = (10, 8))\n",
    "G1Etype.plot.bar(ax = axes[0], color = \"green\")\n",
    "axes[0].set_title(\"G1E type\")\n",
    "ER4type.plot.bar(ax = axes[1], color = \"pink\")\n",
    "axes[1].set_title(\"ER4 type\")\n",
    "plt.savefig('subtype.pdf', dpi=300, bbox_inches='tight')\n",
    "plt.show()"
   ]
  },
  {
   "cell_type": "code",
   "execution_count": null,
   "metadata": {},
   "outputs": [],
   "source": []
  }
 ],
 "metadata": {
  "kernelspec": {
   "display_name": "Python 3",
   "language": "python",
   "name": "python3"
  },
  "language_info": {
   "codemirror_mode": {
    "name": "ipython",
    "version": 3
   },
   "file_extension": ".py",
   "mimetype": "text/x-python",
   "name": "python",
   "nbconvert_exporter": "python",
   "pygments_lexer": "ipython3",
   "version": "3.7.1"
  }
 },
 "nbformat": 4,
 "nbformat_minor": 4
}
